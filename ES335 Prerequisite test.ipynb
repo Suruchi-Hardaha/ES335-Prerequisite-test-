{
 "cells": [
  {
   "cell_type": "code",
   "execution_count": 16,
   "id": "003e473f",
   "metadata": {},
   "outputs": [],
   "source": [
    "\n"
   ]
  },
  {
   "cell_type": "markdown",
   "id": "11bb1f46",
   "metadata": {},
   "source": [
    "Question No.1 solution"
   ]
  },
  {
   "cell_type": "markdown",
   "id": "63f65a3f",
   "metadata": {},
   "source": [
    "To perform matrix multiplication between a matrix \n",
    "\n",
    "A of size(n,k) and a matrix \n",
    "𝐵 of  size(k,m) \n",
    "the necessary condition is that the number of columns of matrix A \n",
    "should be equal to numer of row sof matrix B ,here matrix A has \"k\" number of columns and matrix B\n",
    "has \"k\" number of rows so condition is satisfied.\n",
    "Let the resulting matrix be C.\n",
    "\n",
    "For matrix multiplication C = A * B:\n",
    "\n",
    "A is an n x k matrix.\n",
    "B is a k x m matrix.\n",
    "C will be an n x m matrix.\n",
    "Each element C_ij in the resulting matrix C is computed as:\n",
    "C_ij = sum(A_ir * B_rj) for r from 1 to k\n",
    "\n",
    "Total Number of Operations:\n",
    "\n",
    "1.Multiplications:\n",
    "\n",
    "Each element of C requires k multiplications.\n",
    "There are n * m elements in C.\n",
    "Total multiplications required: n * m * k.\n",
    "    \n",
    "2.Additions:\n",
    "\n",
    "Each element of C requires k-1 additions.\n",
    "There are n * m elements in C.\n",
    "Total additions required: n * m * (k-1).\n",
    "    \n",
    "This results in n * m * k multiplications and n * m * (k-1) additions overall.\n"
   ]
  },
  {
   "cell_type": "code",
   "execution_count": null,
   "id": "b53e376e",
   "metadata": {},
   "outputs": [],
   "source": []
  },
  {
   "cell_type": "markdown",
   "id": "eb4a686a",
   "metadata": {},
   "source": [
    "Question No. 2 solution "
   ]
  },
  {
   "cell_type": "code",
   "execution_count": 7,
   "id": "d015af27",
   "metadata": {},
   "outputs": [
    {
     "name": "stdout",
     "output_type": "stream",
     "text": [
      "Time taken for list of lists multiplication: 3.4360 seconds\n",
      "Time taken for NumPy multiplication: 0.0000 seconds\n"
     ]
    }
   ],
   "source": [
    "import random\n",
    "import time\n",
    "\n",
    "\n",
    "def matrix_multiply_list_of_lists(A, B):\n",
    "    result = [[0 for _ in range(len(B[0]))] for _ in range(len(A))]\n",
    "    for i in range(len(A)):\n",
    "        for j in range(len(B[0])):\n",
    "            for k in range(len(B)):\n",
    "                result[i][j] += A[i][k] * B[k][j]\n",
    "    return result\n",
    "\n",
    "\n",
    "random.seed(42)\n",
    "n = 200 \n",
    "A = [[random.random() for _ in range(n)] for _ in range(n)]\n",
    "B = [[random.random() for _ in range(n)] for _ in range(n)]\n",
    "\n",
    "\n",
    "start_time = time.time()\n",
    "result_list_of_lists = matrix_multiply_list_of_lists(A, B)\n",
    "time_list_of_lists = time.time() - start_time\n",
    "\n",
    "print(f\"Time taken for list of lists multiplication: {time_list_of_lists:.4f} seconds\")\n",
    "\n",
    "\n",
    "import numpy as np\n",
    "\n",
    "\n",
    "A_np = np.array(A)\n",
    "B_np = np.array(B)\n",
    "\n",
    "\n",
    "start_time = time.time()\n",
    "result_numpy = np.dot(A_np, B_np)\n",
    "time_numpy = time.time() - start_time\n",
    "\n",
    "print(f\"Time taken for NumPy multiplication: {time_numpy:.4f} seconds\")\n",
    "\n",
    "\n",
    "\n"
   ]
  },
  {
   "cell_type": "markdown",
   "id": "cd797836",
   "metadata": {},
   "source": [
    "The reason of Numpy being faster than Lists of Lists matrix multiplication due to several reasons :\n",
    "1.NumPy uses vectorized operations and itsoperations are implementd in highly optimized C and Fortan code \n",
    "that are inherently more efficient than Python For loops.\n",
    "    \n",
    "    \n",
    "2.NumPy arrays are stored in contiguous memory locations\n",
    "allowing for efficient access and manipulation.\n",
    "Python lists of lists do not guarantee contiguous memory storage, which can lead to slower access times."
   ]
  },
  {
   "cell_type": "code",
   "execution_count": null,
   "id": "926c0089",
   "metadata": {},
   "outputs": [],
   "source": []
  },
  {
   "cell_type": "code",
   "execution_count": null,
   "id": "a1fe02c6",
   "metadata": {},
   "outputs": [],
   "source": []
  },
  {
   "cell_type": "code",
   "execution_count": null,
   "id": "5160bcb6",
   "metadata": {},
   "outputs": [],
   "source": []
  },
  {
   "cell_type": "markdown",
   "id": "01750f24",
   "metadata": {},
   "source": [
    "\n",
    " Question no. 3 Solution "
   ]
  },
  {
   "cell_type": "code",
   "execution_count": 36,
   "id": "fceec5bf",
   "metadata": {},
   "outputs": [
    {
     "name": "stdout",
     "output_type": "stream",
     "text": [
      "Median using method1 : 49985, Time: 129.6613 seconds\n",
      "Median using modified method : 49984.5, Time: 0.0339 seconds\n",
      "Median using numpy : 49984.5, Time: 0.0070 seconds\n"
     ]
    }
   ],
   "source": [
    "import random\n",
    "import time\n",
    "import numpy as np\n",
    "\n",
    "\n",
    "def find_median_method1(arr):\n",
    "    temp_arr = arr[:]\n",
    "    n = len(temp_arr)\n",
    "    for i in range((n - 1) // 2):\n",
    "        temp_arr.remove(max(temp_arr))\n",
    "    return max(temp_arr)\n",
    "\n",
    "def find_median_modified(array):\n",
    "    array.sort()\n",
    "    size=len(array)\n",
    "    if(size%2==1):\n",
    "        ans=array[size//2]\n",
    "    else:\n",
    "        ans=(array[size//2]+array[size//2 -1])/2\n",
    "    return ans\n",
    "\n",
    "def find_numpy_median(arr):\n",
    "    return np.median(arr)\n",
    "\n",
    "\n",
    "np.random.seed(42)\n",
    "arr = np.random.randint(0, 100000,size=100000).tolist()\n",
    "\n",
    "start_time = time.time()\n",
    "median_m1 = find_median_method1(arr)\n",
    "time_naive = time.time() - start_time\n",
    "\n",
    "print(f\"Median using method1 : {median_m1}, Time: {time_naive:.4f} seconds\")\n",
    "\n",
    "\n",
    "start_time = time.time()\n",
    "median_modified = find_median_modified(arr)\n",
    "time_naive = time.time() - start_time\n",
    "\n",
    "print(f\"Median using modified method : {median_modified}, Time: {time_naive:.4f} seconds\")\n",
    "\n",
    "start_time = time.time()\n",
    "median_using_numpy = find_numpy_median(arr)\n",
    "time_naive = time.time() - start_time\n",
    "\n",
    "print(f\"Median using numpy : {median_using_numpy}, Time: {time_naive:.4f} seconds\")\n",
    "\n"
   ]
  },
  {
   "cell_type": "code",
   "execution_count": null,
   "id": "c5fd18e1",
   "metadata": {},
   "outputs": [],
   "source": []
  },
  {
   "cell_type": "code",
   "execution_count": null,
   "id": "9bbebe4c",
   "metadata": {},
   "outputs": [],
   "source": []
  },
  {
   "cell_type": "code",
   "execution_count": null,
   "id": "f56c7abf",
   "metadata": {},
   "outputs": [],
   "source": []
  },
  {
   "cell_type": "markdown",
   "id": "3bb9a528",
   "metadata": {},
   "source": [
    "Question no. 4 solution"
   ]
  },
  {
   "cell_type": "markdown",
   "id": "9fb6d2e1",
   "metadata": {},
   "source": [
    "Given the function :\n",
    "    f(x,y)= x^2y+ y^3sin(x)\n",
    "\n",
    "\n",
    "\n",
    "The gradient of function is given by vector of partial derivatives with respect to each variable \n",
    "Thus,\n",
    "\n",
    "\n",
    "    grad(f(x,y))=(df(x,y)/dx,df(x,y)/dy)\n",
    "    \n",
    "    \n",
    "    \n",
    "so let's calculate df(x,y)/dx=(d(x^2y)/dx)+(d(y^3sin(x))/dx)\n",
    "\n",
    "\n",
    "                             = 2xy+y^3cos(x)\n",
    "                             \n",
    "                             \n",
    "                             \n",
    "similarly df(x,y)/dy=(d(x^2y)/dy)+(d(y^3sin(x))/dy)\n",
    "\n",
    "\n",
    "                    =x^2+3y^2sin(x)\n",
    "                    \n",
    "                    \n",
    "therefore grad(f(x,y))=(2xy+y^3cos(x),x^2+3y^2sin(x))\n",
    "    "
   ]
  },
  {
   "cell_type": "code",
   "execution_count": null,
   "id": "2f535019",
   "metadata": {},
   "outputs": [],
   "source": []
  },
  {
   "cell_type": "markdown",
   "id": "785ef283",
   "metadata": {},
   "source": [
    "Question NO. 5 solution "
   ]
  },
  {
   "cell_type": "markdown",
   "id": "a14d967e",
   "metadata": {},
   "source": [
    "pip install --upgrade jax jaxlib==0.1.68+cuda111 -f https://storage.googleapis.com/jax-releases/jax_releases.html\n"
   ]
  },
  {
   "cell_type": "code",
   "execution_count": 2,
   "id": "64215b62",
   "metadata": {},
   "outputs": [],
   "source": [
    "import jax\n",
    "import jax.numpy as jnp\n",
    "import numpy as np\n"
   ]
  },
  {
   "cell_type": "code",
   "execution_count": 4,
   "id": "6b2db3cd",
   "metadata": {},
   "outputs": [],
   "source": [
    "def f(x, y):\n",
    "    return x**2 * y + y**3 * jnp.sin(x)\n",
    "def analytical_gradient(x, y):\n",
    "    df_dx = 2 * x * y + y**3 * jnp.cos(x)\n",
    "    df_dy = x**2 + 3 * y**2 * jnp.sin(x)\n",
    "    return df_dx, df_dy\n",
    "grad_f = jax.grad(f, argnums=(0, 1))\n",
    "np.random.seed(42)\n",
    "random_points = np.random.rand(3, 2)  \n",
    "for point in random_points:\n",
    "    x, y = point\n",
    "    analytical_grad = analytical_gradient(x, y)\n",
    "    jax_grad = grad_f(x, y)"
   ]
  },
  {
   "cell_type": "code",
   "execution_count": 5,
   "id": "5d615cd6",
   "metadata": {},
   "outputs": [
    {
     "name": "stdout",
     "output_type": "stream",
     "text": [
      "Point (x, y): (0.1560, 0.1560)\n",
      "Analytical gradient: (df/dx, df/dy) = (0.0524, 0.0357)\n",
      "JAX gradient: (df/dx, df/dy) = (0.0524, 0.0357)\n",
      "\n"
     ]
    }
   ],
   "source": [
    "    print(f\"Point (x, y): ({x:.4f}, {y:.4f})\")\n",
    "    print(f\"Analytical gradient: (df/dx, df/dy) = ({analytical_grad[0]:.4f}, {analytical_grad[1]:.4f})\")\n",
    "    print(f\"JAX gradient: (df/dx, df/dy) = ({jax_grad[0]:.4f}, {jax_grad[1]:.4f})\")\n",
    "    print()"
   ]
  },
  {
   "cell_type": "code",
   "execution_count": null,
   "id": "9ac4b381",
   "metadata": {},
   "outputs": [],
   "source": []
  },
  {
   "cell_type": "code",
   "execution_count": null,
   "id": "714a4755",
   "metadata": {},
   "outputs": [],
   "source": []
  },
  {
   "cell_type": "code",
   "execution_count": null,
   "id": "ec1e7f14",
   "metadata": {},
   "outputs": [],
   "source": []
  },
  {
   "cell_type": "markdown",
   "id": "2c79a13e",
   "metadata": {},
   "source": [
    "QUESTION NO.6  SOLUTION"
   ]
  },
  {
   "cell_type": "code",
   "execution_count": null,
   "id": "c812aba4",
   "metadata": {},
   "outputs": [],
   "source": [
    "import sympy as sym\n",
    "import math"
   ]
  },
  {
   "cell_type": "code",
   "execution_count": 17,
   "id": "f448666f",
   "metadata": {},
   "outputs": [],
   "source": [
    "x,y=sym.symbols('x y')"
   ]
  },
  {
   "cell_type": "code",
   "execution_count": 51,
   "id": "8b15f4c5",
   "metadata": {},
   "outputs": [],
   "source": [
    "func= x**2*y+y**3*sym.sin(x)"
   ]
  },
  {
   "cell_type": "code",
   "execution_count": 56,
   "id": "64c08447",
   "metadata": {},
   "outputs": [],
   "source": [
    "diff_x=sym.diff(func,x)\n",
    "diff_y=sym.diff(func,y)"
   ]
  },
  {
   "cell_type": "code",
   "execution_count": 58,
   "id": "ac1eb2f1",
   "metadata": {},
   "outputs": [
    {
     "name": "stdout",
     "output_type": "stream",
     "text": [
      " 2      3       \n",
      "x ⋅y + y ⋅sin(x)\n"
     ]
    }
   ],
   "source": [
    " sym.pprint(func)"
   ]
  },
  {
   "cell_type": "code",
   "execution_count": 59,
   "id": "b268e08c",
   "metadata": {},
   "outputs": [
    {
     "name": "stdout",
     "output_type": "stream",
     "text": [
      "         3       \n",
      "2⋅x⋅y + y ⋅cos(x)\n"
     ]
    }
   ],
   "source": [
    "sym.pprint(diff_x)"
   ]
  },
  {
   "cell_type": "code",
   "execution_count": 60,
   "id": "dd51c551",
   "metadata": {},
   "outputs": [
    {
     "name": "stdout",
     "output_type": "stream",
     "text": [
      " 2      2       \n",
      "x  + 3⋅y ⋅sin(x)\n"
     ]
    }
   ],
   "source": [
    "sym.pprint(diff_y)"
   ]
  },
  {
   "cell_type": "code",
   "execution_count": 62,
   "id": "9ba88722",
   "metadata": {},
   "outputs": [
    {
     "name": "stdout",
     "output_type": "stream",
     "text": [
      "⎡         3       ⎤\n",
      "⎢2⋅x⋅y + y ⋅cos(x)⎥\n",
      "⎢                 ⎥\n",
      "⎢ 2      2        ⎥\n",
      "⎣x  + 3⋅y ⋅sin(x) ⎦\n"
     ]
    }
   ],
   "source": [
    "gradient=sym.Matrix([diff_x, diff_y])\n",
    "sym.pprint(gradient)"
   ]
  },
  {
   "cell_type": "code",
   "execution_count": null,
   "id": "1f167e6f",
   "metadata": {},
   "outputs": [],
   "source": []
  },
  {
   "cell_type": "code",
   "execution_count": null,
   "id": "bf5486a7",
   "metadata": {},
   "outputs": [],
   "source": []
  },
  {
   "cell_type": "markdown",
   "id": "ba1e1b6c",
   "metadata": {},
   "source": [
    "Question no.9 solution "
   ]
  },
  {
   "cell_type": "code",
   "execution_count": 1,
   "id": "06aa1389",
   "metadata": {},
   "outputs": [
    {
     "name": "stdout",
     "output_type": "stream",
     "text": [
      "Requirement already satisfied: numpy in e:\\anaconda software\\lib\\site-packages (2.0.1)\n",
      "Requirement already satisfied: pandas in e:\\anaconda software\\lib\\site-packages (2.2.2)\n",
      "Requirement already satisfied: matplotlib in e:\\anaconda software\\lib\\site-packages (3.9.0)\n",
      "Requirement already satisfied: python-dateutil>=2.8.2 in e:\\anaconda software\\lib\\site-packages (from pandas) (2.8.2)\n",
      "Requirement already satisfied: pytz>=2020.1 in e:\\anaconda software\\lib\\site-packages (from pandas) (2021.3)\n",
      "Requirement already satisfied: tzdata>=2022.7 in e:\\anaconda software\\lib\\site-packages (from pandas) (2024.1)\n",
      "Requirement already satisfied: numpy>=1.22.4 in e:\\anaconda software\\lib\\site-packages (from pandas) (2.0.1)\n",
      "Requirement already satisfied: kiwisolver>=1.3.1 in e:\\anaconda software\\lib\\site-packages (from matplotlib) (1.3.2)\n",
      "Requirement already satisfied: pyparsing>=2.3.1 in e:\\anaconda software\\lib\\site-packages (from matplotlib) (3.0.4)\n",
      "Requirement already satisfied: fonttools>=4.22.0 in e:\\anaconda software\\lib\\site-packages (from matplotlib) (4.25.0)\n",
      "Requirement already satisfied: packaging>=20.0 in e:\\anaconda software\\lib\\site-packages (from matplotlib) (21.3)\n",
      "Requirement already satisfied: pillow>=8 in e:\\anaconda software\\lib\\site-packages (from matplotlib) (9.0.1)\n",
      "Requirement already satisfied: contourpy>=1.0.1 in e:\\anaconda software\\lib\\site-packages (from matplotlib) (1.2.1)\n",
      "Requirement already satisfied: importlib-resources>=3.2.0 in e:\\anaconda software\\lib\\site-packages (from matplotlib) (6.4.0)\n",
      "Requirement already satisfied: cycler>=0.10 in e:\\anaconda software\\lib\\site-packages (from matplotlib) (0.11.0)\n",
      "Requirement already satisfied: zipp>=3.1.0 in e:\\anaconda software\\lib\\site-packages (from importlib-resources>=3.2.0->matplotlib) (3.7.0)\n",
      "Requirement already satisfied: six>=1.5 in e:\\anaconda software\\lib\\site-packages (from python-dateutil>=2.8.2->pandas) (1.16.0)\n"
     ]
    }
   ],
   "source": [
    "!pip install --upgrade numpy\n",
    "!pip install --upgrade pandas matplotlib\n"
   ]
  },
  {
   "cell_type": "code",
   "execution_count": 2,
   "id": "3d36fc81",
   "metadata": {},
   "outputs": [
    {
     "data": {
      "image/png": "[encoded data removed]",
      "text/plain": [
       "<Figure size 432x288 with 1 Axes>"
      ]
     },
     "metadata": {
      "needs_background": "light"
     },
     "output_type": "display_data"
    }
   ],
   "source": [
    "import matplotlib.pyplot as plt\n",
    "import numpy as np\n",
    "x=np.linspace(0.5,100.0,200)\n",
    "plt.plot(x,x)\n",
    "plt.xlabel(\"x\")\n",
    "plt.ylabel(\"y\")\n",
    "plt.title(\" plot for y=x\")\n",
    "plt.show()\n"
   ]
  },
  {
   "cell_type": "code",
   "execution_count": 3,
   "id": "c76b5eb3",
   "metadata": {},
   "outputs": [
    {
     "data": {
      "image/png": "[encoded data removed]",
      "text/plain": [
       "<Figure size 432x288 with 1 Axes>"
      ]
     },
     "metadata": {
      "needs_background": "light"
     },
     "output_type": "display_data"
    }
   ],
   "source": [
    "plt.plot(x,x**2)\n",
    "plt.xlabel(\"x\")\n",
    "plt.ylabel(\"y\")\n",
    "plt.title(\" Plot for y=x^2\")\n",
    "plt.show()"
   ]
  },
  {
   "cell_type": "code",
   "execution_count": 4,
   "id": "3d57c4b2",
   "metadata": {},
   "outputs": [
    {
     "data": {
      "image/png": "[encoded data removed]",
      "text/plain": [
       "<Figure size 432x288 with 1 Axes>"
      ]
     },
     "metadata": {
      "needs_background": "light"
     },
     "output_type": "display_data"
    }
   ],
   "source": [
    "plt.plot(x,(x**3)/100)\n",
    "plt.xlabel(\"x\")\n",
    "plt.ylabel(\"y\")\n",
    "plt.title(\" Plot for y=(x^3)/100\")\n",
    "plt.show()\n"
   ]
  },
  {
   "cell_type": "code",
   "execution_count": 5,
   "id": "e3950f19",
   "metadata": {},
   "outputs": [
    {
     "data": {
      "image/png": "[encoded data removed]",
      "text/plain": [
       "<Figure size 432x288 with 1 Axes>"
      ]
     },
     "metadata": {
      "needs_background": "light"
     },
     "output_type": "display_data"
    }
   ],
   "source": [
    "plt.plot(x,np.sin(x))\n",
    "plt.xlabel(\"x\")\n",
    "plt.ylabel(\"y\")\n",
    "plt.title(\" Plot for y=sin(x)\")\n",
    "plt.show()"
   ]
  },
  {
   "cell_type": "code",
   "execution_count": 6,
   "id": "1c233ab2",
   "metadata": {},
   "outputs": [
    {
     "data": {
      "image/png": "[encoded data removed]",
      "text/plain": [
       "<Figure size 432x288 with 1 Axes>"
      ]
     },
     "metadata": {
      "needs_background": "light"
     },
     "output_type": "display_data"
    }
   ],
   "source": [
    "plt.plot(x,np.sin(x)/x)\n",
    "plt.xlabel(\"x\")\n",
    "plt.ylabel(\"y\")\n",
    "plt.title(\" Plot for y=sin(x)/x\")\n",
    "plt.show()"
   ]
  },
  {
   "cell_type": "code",
   "execution_count": 7,
   "id": "c81683ff",
   "metadata": {},
   "outputs": [
    {
     "data": {
      "image/png": "[encoded data removed]",
      "text/plain": [
       "<Figure size 432x288 with 1 Axes>"
      ]
     },
     "metadata": {
      "needs_background": "light"
     },
     "output_type": "display_data"
    }
   ],
   "source": [
    "plt.plot(x,np.log(x))\n",
    "plt.xlabel(\"x\")\n",
    "plt.ylabel(\"y\")\n",
    "plt.title(\" Plot for y=log(x)\")\n",
    "plt.show()"
   ]
  },
  {
   "cell_type": "code",
   "execution_count": 8,
   "id": "63265a00",
   "metadata": {},
   "outputs": [
    {
     "data": {
      "image/png": "[encoded data removed]",
      "text/plain": [
       "<Figure size 432x288 with 1 Axes>"
      ]
     },
     "metadata": {
      "needs_background": "light"
     },
     "output_type": "display_data"
    }
   ],
   "source": [
    "\n",
    "plt.plot(x,np.e**x)\n",
    "plt.xlabel(\"x\")\n",
    "plt.ylabel(\"y\")\n",
    "plt.title(\" Plot for y=e^x\")\n",
    "plt.show()\n"
   ]
  },
  {
   "cell_type": "markdown",
   "id": "57efa4ab",
   "metadata": {},
   "source": [
    "\n",
    "Question no 10.\n",
    "Using numpy generate a matrix of size 20X5 containing random numbers drawn uniformly from the range of 1 to 2. Using Pandas create a dataframe out of this matrix. Name the columns of the dataframe as “a”, “b”, “c”, “d”, “e”. Find the column with the highest standard deviation. Find the row with the lowest mean."
   ]
  },
  {
   "cell_type": "code",
   "execution_count": 24,
   "id": "68744bc3",
   "metadata": {},
   "outputs": [
    {
     "name": "stdout",
     "output_type": "stream",
     "text": [
      "20X5 Matrix generated using random umbers drawn uniformly from 1 to 2 is : [[1.5488135  1.71518937 1.60276338 1.54488318 1.4236548 ]\n",
      " [1.64589411 1.43758721 1.891773   1.96366276 1.38344152]\n",
      " [1.79172504 1.52889492 1.56804456 1.92559664 1.07103606]\n",
      " [1.0871293  1.0202184  1.83261985 1.77815675 1.87001215]\n",
      " [1.97861834 1.79915856 1.46147936 1.78052918 1.11827443]\n",
      " [1.63992102 1.14335329 1.94466892 1.52184832 1.41466194]\n",
      " [1.26455561 1.77423369 1.45615033 1.56843395 1.0187898 ]\n",
      " [1.6176355  1.61209572 1.616934   1.94374808 1.6818203 ]\n",
      " [1.3595079  1.43703195 1.6976312  1.06022547 1.66676672]\n",
      " [1.67063787 1.21038256 1.1289263  1.31542835 1.36371077]\n",
      " [1.57019677 1.43860151 1.98837384 1.10204481 1.20887676]\n",
      " [1.16130952 1.65310833 1.2532916  1.46631077 1.24442559]\n",
      " [1.15896958 1.11037514 1.65632959 1.13818295 1.19658236]\n",
      " [1.36872517 1.82099323 1.09710128 1.83794491 1.09609841]\n",
      " [1.97645947 1.4686512  1.97676109 1.60484552 1.73926358]\n",
      " [1.03918779 1.28280696 1.12019656 1.2961402  1.11872772]\n",
      " [1.31798318 1.41426299 1.0641475  1.69247212 1.56660145]\n",
      " [1.26538949 1.52324805 1.09394051 1.5759465  1.9292962 ]\n",
      " [1.31856895 1.66741038 1.13179786 1.7163272  1.28940609]\n",
      " [1.18319136 1.58651293 1.02010755 1.82894003 1.00469548]]\n",
      "\n",
      "\n",
      "The dataframe generated is :            a         b         c         d         e\n",
      "0   1.548814  1.715189  1.602763  1.544883  1.423655\n",
      "1   1.645894  1.437587  1.891773  1.963663  1.383442\n",
      "2   1.791725  1.528895  1.568045  1.925597  1.071036\n",
      "3   1.087129  1.020218  1.832620  1.778157  1.870012\n",
      "4   1.978618  1.799159  1.461479  1.780529  1.118274\n",
      "5   1.639921  1.143353  1.944669  1.521848  1.414662\n",
      "6   1.264556  1.774234  1.456150  1.568434  1.018790\n",
      "7   1.617635  1.612096  1.616934  1.943748  1.681820\n",
      "8   1.359508  1.437032  1.697631  1.060225  1.666767\n",
      "9   1.670638  1.210383  1.128926  1.315428  1.363711\n",
      "10  1.570197  1.438602  1.988374  1.102045  1.208877\n",
      "11  1.161310  1.653108  1.253292  1.466311  1.244426\n",
      "12  1.158970  1.110375  1.656330  1.138183  1.196582\n",
      "13  1.368725  1.820993  1.097101  1.837945  1.096098\n",
      "14  1.976459  1.468651  1.976761  1.604846  1.739264\n",
      "15  1.039188  1.282807  1.120197  1.296140  1.118728\n",
      "16  1.317983  1.414263  1.064147  1.692472  1.566601\n",
      "17  1.265389  1.523248  1.093941  1.575946  1.929296\n",
      "18  1.318569  1.667410  1.131798  1.716327  1.289406\n",
      "19  1.183191  1.586513  1.020108  1.828940  1.004695\n",
      "\n",
      "\n",
      "Column with maximum value of standard deviation is   c and its value is  0.34346618256567985\n",
      "\n",
      "\n",
      "Row with lowest mean is :  15 and its value is  1.1714118465040577\n"
     ]
    }
   ],
   "source": [
    "import numpy as np\n",
    "import pandas as pd\n",
    "\n",
    "np.random.seed(0)\n",
    "mat=np.random.uniform(1,2,size=(20,5))\n",
    "print(\"20X5 Matrix generated using random umbers drawn uniformly from 1 to 2 is :\" , mat)\n",
    "\n",
    "col=['a','b','c','d','e']\n",
    "dataframe=pd.DataFrame(mat,columns=col)\n",
    "print('\\n')\n",
    "print (\"The dataframe generated is :\",dataframe)\n",
    "\n",
    "stdeviation=dataframe.std()\n",
    "column_with_max_std=stdeviation.idxmax()\n",
    "value_of_max_std=stdeviation.max()\n",
    "print('\\n')\n",
    "print(\"Column with maximum value of standard deviation is  \",column_with_max_std,\"and its value is \",value_of_max_std)\n",
    "\n",
    "print('\\n')\n",
    "rowwisemean=dataframe.mean(axis=1)\n",
    "row_with_lowest_mean=rowwisemean.idxmin()\n",
    "value_of_min_mean=rowwisemean.min()\n",
    "print(\"Row with lowest mean is : \", row_with_lowest_mean, \"and its value is \", value_of_min_mean)\n",
    "\n"
   ]
  },
  {
   "cell_type": "code",
   "execution_count": null,
   "id": "4ae7f362",
   "metadata": {},
   "outputs": [],
   "source": []
  },
  {
   "cell_type": "markdown",
   "id": "ef57c1ef",
   "metadata": {},
   "source": [
    "Question no.12\n",
    "Write a small piece of code to explain broadcasting in numpy."
   ]
  },
  {
   "cell_type": "markdown",
   "id": "19903759",
   "metadata": {},
   "source": [
    "Broadcasting is ability of NumPy to treat arrays of different shapes durig arithmetic operations.The smaller  array is broadcasted to size of larger array so that they have compatible shapes, however without broadcasting operation on arrays of non -similar shapes is not possible"
   ]
  },
  {
   "cell_type": "code",
   "execution_count": 27,
   "id": "1d515d82",
   "metadata": {},
   "outputs": [
    {
     "name": "stdout",
     "output_type": "stream",
     "text": [
      "matrix a is: [[0 1 2]]\n",
      "\n",
      "\n",
      "matrix b is : [[ 0  1  2]\n",
      " [ 3  4  5]\n",
      " [ 6  7  8]\n",
      " [ 9 10 11]]\n",
      "\n",
      "\n",
      "resultant broadcasted matrix is: [[ 0  2  4]\n",
      " [ 3  5  7]\n",
      " [ 6  8 10]\n",
      " [ 9 11 13]]\n"
     ]
    }
   ],
   "source": [
    "a=np.arange(3).reshape(1,3)\n",
    "print(\"matrix a is:\",a)\n",
    "print('\\n')\n",
    "b=np.arange(12).reshape(4,3)\n",
    "print(\"matrix b is :\" ,b)\n",
    "print('\\n')\n",
    "print(\"resultant broadcasted matrix is:\", a+b)\n",
    "\n",
    "\n",
    "\n"
   ]
  },
  {
   "cell_type": "markdown",
   "id": "141f851f",
   "metadata": {},
   "source": [
    "Here  size of matrix \"a\"< size of matrix\"b\" so matrix \"a\" replicate itself until it gets dimension of matrix \"b\" after that operations is performed  "
   ]
  },
  {
   "cell_type": "code",
   "execution_count": null,
   "id": "a53cdb27",
   "metadata": {},
   "outputs": [],
   "source": []
  },
  {
   "cell_type": "code",
   "execution_count": 29,
   "id": "d970570a",
   "metadata": {},
   "outputs": [
    {
     "name": "stdout",
     "output_type": "stream",
     "text": [
      "matrix a is: [[0 1 2]]\n",
      "\n",
      "\n",
      "matrix b is : [[0]\n",
      " [1]\n",
      " [2]]\n",
      "\n",
      "\n",
      "resultant broadcasted matrix is: [[0 1 2]\n",
      " [1 2 3]\n",
      " [2 3 4]]\n"
     ]
    }
   ],
   "source": [
    "a=np.arange(3).reshape(1,3)\n",
    "print(\"matrix a is:\",a)\n",
    "print('\\n')\n",
    "b=np.arange(3).reshape(3,1)\n",
    "print(\"matrix b is :\" ,b)\n",
    "print('\\n')\n",
    "print(\"resultant broadcasted matrix is:\", a+b)"
   ]
  },
  {
   "cell_type": "markdown",
   "id": "2c710798",
   "metadata": {},
   "source": [
    "Here   matrix \"a\" is Row matrix   and matrix\"b\" is Column matrix  so both  matrix \"a\" and  matrix \"b\" replicate itself until it both gets compatible dimension after that operations is performed  "
   ]
  },
  {
   "cell_type": "code",
   "execution_count": 32,
   "id": "b0f3e08c",
   "metadata": {},
   "outputs": [
    {
     "name": "stdout",
     "output_type": "stream",
     "text": [
      "matrix a is: [0 1 2]\n",
      "\n",
      "\n"
     ]
    },
    {
     "ename": "ValueError",
     "evalue": "cannot reshape array of size 3 into shape (3,4)",
     "output_type": "error",
     "traceback": [
      "\u001b[1;31m---------------------------------------------------------------------------\u001b[0m",
      "\u001b[1;31mValueError\u001b[0m                                Traceback (most recent call last)",
      "Input \u001b[1;32mIn [32]\u001b[0m, in \u001b[0;36m<cell line: 4>\u001b[1;34m()\u001b[0m\n\u001b[0;32m      2\u001b[0m \u001b[38;5;28mprint\u001b[39m(\u001b[38;5;124m\"\u001b[39m\u001b[38;5;124mmatrix a is:\u001b[39m\u001b[38;5;124m\"\u001b[39m,a)\n\u001b[0;32m      3\u001b[0m \u001b[38;5;28mprint\u001b[39m(\u001b[38;5;124m'\u001b[39m\u001b[38;5;130;01m\\n\u001b[39;00m\u001b[38;5;124m'\u001b[39m)\n\u001b[1;32m----> 4\u001b[0m b\u001b[38;5;241m=\u001b[39m\u001b[43mnp\u001b[49m\u001b[38;5;241;43m.\u001b[39;49m\u001b[43marange\u001b[49m\u001b[43m(\u001b[49m\u001b[38;5;241;43m3\u001b[39;49m\u001b[43m)\u001b[49m\u001b[38;5;241;43m.\u001b[39;49m\u001b[43mreshape\u001b[49m\u001b[43m(\u001b[49m\u001b[38;5;241;43m3\u001b[39;49m\u001b[43m,\u001b[49m\u001b[38;5;241;43m4\u001b[39;49m\u001b[43m)\u001b[49m\n\u001b[0;32m      5\u001b[0m \u001b[38;5;28mprint\u001b[39m(\u001b[38;5;124m\"\u001b[39m\u001b[38;5;124mmatrix b is :\u001b[39m\u001b[38;5;124m\"\u001b[39m ,b)\n\u001b[0;32m      6\u001b[0m \u001b[38;5;28mprint\u001b[39m(\u001b[38;5;124m'\u001b[39m\u001b[38;5;130;01m\\n\u001b[39;00m\u001b[38;5;124m'\u001b[39m)\n",
      "\u001b[1;31mValueError\u001b[0m: cannot reshape array of size 3 into shape (3,4)"
     ]
    }
   ],
   "source": [
    "a=np.arange(3)\n",
    "print(\"matrix a is:\",a)\n",
    "print('\\n')\n",
    "b=np.arange(3).reshape(3,4)\n",
    "print(\"matrix b is :\" ,b)\n",
    "print('\\n')\n",
    "print(\"resultant broadcasted matrix is:\", a+b)"
   ]
  },
  {
   "cell_type": "code",
   "execution_count": null,
   "id": "f768f701",
   "metadata": {},
   "outputs": [],
   "source": []
  },
  {
   "cell_type": "markdown",
   "id": "e83902cc",
   "metadata": {},
   "source": [
    "Question 13\n",
    "Write a function to compute the argmin of a numpy array. The function should take a numpy array as input and return the index of the minimum element. You can use the np.argmin function to verify your solution."
   ]
  },
  {
   "cell_type": "code",
   "execution_count": 6,
   "id": "710caf29",
   "metadata": {},
   "outputs": [
    {
     "name": "stdout",
     "output_type": "stream",
     "text": [
      "Row-wise indices of minimum elements: [2 2 0]\n",
      "\n",
      "\n",
      "NumPy row-wise indices of minimum elements: [2 2 0]\n",
      "\n",
      "\n",
      "Column-wise indices of minimum elements: [0 0 0]\n",
      "\n",
      "\n",
      "NumPy row-wise indices of minimum elements: [0 0 0]\n"
     ]
    }
   ],
   "source": [
    "import numpy as np\n",
    "\n",
    "def argmin_customdefined(arr,axis):\n",
    "    \n",
    "    if arr.ndim != 2:\n",
    "        raise ValueError(\"Input array must be 2-dimensional\")\n",
    "    if(axis==1):\n",
    "            rowwise_min_index = np.zeros(arr.shape[0], dtype=int)\n",
    "            for i in range(arr.shape[0]):\n",
    "                min_index = 0\n",
    "                min_value = arr[i, 0]\n",
    "                for j in range(1, arr.shape[1]):\n",
    "                    if arr[i, j] < min_value:\n",
    "                        min_value = arr[i, j]\n",
    "                        min_index = j\n",
    "                rowwise_min_index[i]=min_index\n",
    "    \n",
    "            return rowwise_min_index\n",
    "    if(axis==0):\n",
    "            columnwise_min_index = np.zeros(arr.shape[0], dtype=int)\n",
    "            for j in range(arr.shape[1]):\n",
    "                min_index = 0\n",
    "                min_value = arr[0, j]\n",
    "                for i in range(1, arr.shape[0]):\n",
    "                    if arr[i, j] < min_value:\n",
    "                        min_value = arr[i, j]\n",
    "                        min_index = j\n",
    "                columnwise_min_index[i]=min_index\n",
    "    \n",
    "            return columnwise_min_index\n",
    "\n",
    "arr = np.array([[3, 2, 1], [6, 5, 4], [7, 8, 9]])\n",
    "print(\"Row-wise indices of minimum elements:\", argmin_customdefined(arr,1))\n",
    "\n",
    "print('\\n')\n",
    "print(\"NumPy row-wise indices of minimum elements:\", np.argmin(arr, axis=1))\n",
    "print('\\n')\n",
    "print(\"Column-wise indices of minimum elements:\", argmin_customdefined(arr,0))\n",
    "print('\\n')\n",
    "print(\"NumPy row-wise indices of minimum elements:\", np.argmin(arr, axis=0))"
   ]
  },
  {
   "cell_type": "code",
   "execution_count": null,
   "id": "755ed6e5",
   "metadata": {},
   "outputs": [],
   "source": []
  },
  {
   "cell_type": "code",
   "execution_count": null,
   "id": "fdf3b4b4",
   "metadata": {},
   "outputs": [],
   "source": []
  }
 ],
 "metadata": {
  "kernelspec": {
   "display_name": "Python 3 (ipykernel)",
   "language": "python",
   "name": "python3"
  },
  "language_info": {
   "codemirror_mode": {
    "name": "ipython",
    "version": 3
   },
   "file_extension": ".py",
   "mimetype": "text/x-python",
   "name": "python",
   "nbconvert_exporter": "python",
   "pygments_lexer": "ipython3",
   "version": "3.9.12"
  }
 },
 "nbformat": 4,
 "nbformat_minor": 5
}
